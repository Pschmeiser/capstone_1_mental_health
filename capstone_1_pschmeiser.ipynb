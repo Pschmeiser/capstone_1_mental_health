{
 "cells": [
  {
   "cell_type": "code",
   "execution_count": 13,
   "metadata": {},
   "outputs": [],
   "source": [
    "import numpy as np\n",
    "from scipy import stats\n",
    "import matplotlib.pyplot as plt\n",
    "import pandas as pd\n",
    "import seaborn as sns\n",
    "from collections import Counter\n",
    "from scipy.stats import ttest_ind\n",
    "from numpy import sqrt\n",
    "sns.set(font_scale=1.5)\n",
    "%matplotlib inline\n",
    "plt.style.use('ggplot')"
   ]
  },
  {
   "cell_type": "code",
   "execution_count": 3,
   "metadata": {},
   "outputs": [
    {
     "data": {
      "text/html": [
       "<div>\n",
       "<style scoped>\n",
       "    .dataframe tbody tr th:only-of-type {\n",
       "        vertical-align: middle;\n",
       "    }\n",
       "\n",
       "    .dataframe tbody tr th {\n",
       "        vertical-align: top;\n",
       "    }\n",
       "\n",
       "    .dataframe thead th {\n",
       "        text-align: right;\n",
       "    }\n",
       "</style>\n",
       "<table border=\"1\" class=\"dataframe\">\n",
       "  <thead>\n",
       "    <tr style=\"text-align: right;\">\n",
       "      <th></th>\n",
       "      <th>Timestamp</th>\n",
       "      <th>Age</th>\n",
       "      <th>Gender</th>\n",
       "      <th>Country</th>\n",
       "      <th>If you live in the United States, which state or territory do you live in?</th>\n",
       "      <th>Are you self-employed?</th>\n",
       "      <th>Do you have a family history of mental illness?</th>\n",
       "      <th>Have you sought treatment for a mental health condition?</th>\n",
       "      <th>If you have a mental health condition, do you feel that it interferes with your work?</th>\n",
       "      <th>How many employees does your company or organization have?</th>\n",
       "      <th>...</th>\n",
       "      <th>How easy is it for you to take medical leave for a mental health condition?</th>\n",
       "      <th>Do you think that discussing a mental health issue with your employer would have negative consequences?</th>\n",
       "      <th>Do you think that discussing a physical health issue with your employer would have negative consequences?</th>\n",
       "      <th>Would you be willing to discuss a mental health issue with your coworkers?</th>\n",
       "      <th>Would you be willing to discuss a mental health issue with your direct supervisor(s)?</th>\n",
       "      <th>Would you bring up a mental health issue with a potential employer in an interview?</th>\n",
       "      <th>Would you bring up a physical health issue with a potential employer in an interview?</th>\n",
       "      <th>Do you feel that your employer takes mental health as seriously as physical health?</th>\n",
       "      <th>Have you heard of or observed negative consequences for coworkers with mental health conditions in your workplace?</th>\n",
       "      <th>Any additional notes or comments</th>\n",
       "    </tr>\n",
       "  </thead>\n",
       "  <tbody>\n",
       "    <tr>\n",
       "      <th>0</th>\n",
       "      <td>8/27/2014 11:29:31</td>\n",
       "      <td>37</td>\n",
       "      <td>Female</td>\n",
       "      <td>United States</td>\n",
       "      <td>IL</td>\n",
       "      <td>NaN</td>\n",
       "      <td>No</td>\n",
       "      <td>Yes</td>\n",
       "      <td>Often</td>\n",
       "      <td>6-25</td>\n",
       "      <td>...</td>\n",
       "      <td>Somewhat easy</td>\n",
       "      <td>No</td>\n",
       "      <td>No</td>\n",
       "      <td>Some of them</td>\n",
       "      <td>Yes</td>\n",
       "      <td>No</td>\n",
       "      <td>Maybe</td>\n",
       "      <td>Yes</td>\n",
       "      <td>No</td>\n",
       "      <td>NaN</td>\n",
       "    </tr>\n",
       "    <tr>\n",
       "      <th>1</th>\n",
       "      <td>8/27/2014 11:29:37</td>\n",
       "      <td>44</td>\n",
       "      <td>M</td>\n",
       "      <td>United States</td>\n",
       "      <td>IN</td>\n",
       "      <td>NaN</td>\n",
       "      <td>No</td>\n",
       "      <td>No</td>\n",
       "      <td>Rarely</td>\n",
       "      <td>More than 1000</td>\n",
       "      <td>...</td>\n",
       "      <td>Don't know</td>\n",
       "      <td>Maybe</td>\n",
       "      <td>No</td>\n",
       "      <td>No</td>\n",
       "      <td>No</td>\n",
       "      <td>No</td>\n",
       "      <td>No</td>\n",
       "      <td>Don't know</td>\n",
       "      <td>No</td>\n",
       "      <td>NaN</td>\n",
       "    </tr>\n",
       "    <tr>\n",
       "      <th>2</th>\n",
       "      <td>8/27/2014 11:29:44</td>\n",
       "      <td>32</td>\n",
       "      <td>Male</td>\n",
       "      <td>Canada</td>\n",
       "      <td>NaN</td>\n",
       "      <td>NaN</td>\n",
       "      <td>No</td>\n",
       "      <td>No</td>\n",
       "      <td>Rarely</td>\n",
       "      <td>6-25</td>\n",
       "      <td>...</td>\n",
       "      <td>Somewhat difficult</td>\n",
       "      <td>No</td>\n",
       "      <td>No</td>\n",
       "      <td>Yes</td>\n",
       "      <td>Yes</td>\n",
       "      <td>Yes</td>\n",
       "      <td>Yes</td>\n",
       "      <td>No</td>\n",
       "      <td>No</td>\n",
       "      <td>NaN</td>\n",
       "    </tr>\n",
       "    <tr>\n",
       "      <th>3</th>\n",
       "      <td>8/27/2014 11:29:46</td>\n",
       "      <td>31</td>\n",
       "      <td>Male</td>\n",
       "      <td>United Kingdom</td>\n",
       "      <td>NaN</td>\n",
       "      <td>NaN</td>\n",
       "      <td>Yes</td>\n",
       "      <td>Yes</td>\n",
       "      <td>Often</td>\n",
       "      <td>26-100</td>\n",
       "      <td>...</td>\n",
       "      <td>Somewhat difficult</td>\n",
       "      <td>Yes</td>\n",
       "      <td>Yes</td>\n",
       "      <td>Some of them</td>\n",
       "      <td>No</td>\n",
       "      <td>Maybe</td>\n",
       "      <td>Maybe</td>\n",
       "      <td>No</td>\n",
       "      <td>Yes</td>\n",
       "      <td>NaN</td>\n",
       "    </tr>\n",
       "    <tr>\n",
       "      <th>4</th>\n",
       "      <td>8/27/2014 11:30:22</td>\n",
       "      <td>31</td>\n",
       "      <td>Male</td>\n",
       "      <td>United States</td>\n",
       "      <td>TX</td>\n",
       "      <td>NaN</td>\n",
       "      <td>No</td>\n",
       "      <td>No</td>\n",
       "      <td>Never</td>\n",
       "      <td>100-500</td>\n",
       "      <td>...</td>\n",
       "      <td>Don't know</td>\n",
       "      <td>No</td>\n",
       "      <td>No</td>\n",
       "      <td>Some of them</td>\n",
       "      <td>Yes</td>\n",
       "      <td>Yes</td>\n",
       "      <td>Yes</td>\n",
       "      <td>Don't know</td>\n",
       "      <td>No</td>\n",
       "      <td>NaN</td>\n",
       "    </tr>\n",
       "  </tbody>\n",
       "</table>\n",
       "<p>5 rows × 27 columns</p>\n",
       "</div>"
      ],
      "text/plain": [
       "            Timestamp  Age  Gender         Country  \\\n",
       "0  8/27/2014 11:29:31   37  Female   United States   \n",
       "1  8/27/2014 11:29:37   44       M   United States   \n",
       "2  8/27/2014 11:29:44   32    Male          Canada   \n",
       "3  8/27/2014 11:29:46   31    Male  United Kingdom   \n",
       "4  8/27/2014 11:30:22   31    Male   United States   \n",
       "\n",
       "  If you live in the United States, which state or territory do you live in?  \\\n",
       "0                                                 IL                           \n",
       "1                                                 IN                           \n",
       "2                                                NaN                           \n",
       "3                                                NaN                           \n",
       "4                                                 TX                           \n",
       "\n",
       "  Are you self-employed? Do you have a family history of mental illness?  \\\n",
       "0                    NaN                                              No   \n",
       "1                    NaN                                              No   \n",
       "2                    NaN                                              No   \n",
       "3                    NaN                                             Yes   \n",
       "4                    NaN                                              No   \n",
       "\n",
       "  Have you sought treatment for a mental health condition?  \\\n",
       "0                                                Yes         \n",
       "1                                                 No         \n",
       "2                                                 No         \n",
       "3                                                Yes         \n",
       "4                                                 No         \n",
       "\n",
       "  If you have a mental health condition, do you feel that it interferes with your work?  \\\n",
       "0                                              Often                                      \n",
       "1                                             Rarely                                      \n",
       "2                                             Rarely                                      \n",
       "3                                              Often                                      \n",
       "4                                              Never                                      \n",
       "\n",
       "  How many employees does your company or organization have?  \\\n",
       "0                                               6-25           \n",
       "1                                     More than 1000           \n",
       "2                                               6-25           \n",
       "3                                             26-100           \n",
       "4                                            100-500           \n",
       "\n",
       "                ...                 \\\n",
       "0               ...                  \n",
       "1               ...                  \n",
       "2               ...                  \n",
       "3               ...                  \n",
       "4               ...                  \n",
       "\n",
       "  How easy is it for you to take medical leave for a mental health condition?  \\\n",
       "0                                      Somewhat easy                            \n",
       "1                                         Don't know                            \n",
       "2                                 Somewhat difficult                            \n",
       "3                                 Somewhat difficult                            \n",
       "4                                         Don't know                            \n",
       "\n",
       "  Do you think that discussing a mental health issue with your employer would have negative consequences?  \\\n",
       "0                                                 No                                                        \n",
       "1                                              Maybe                                                        \n",
       "2                                                 No                                                        \n",
       "3                                                Yes                                                        \n",
       "4                                                 No                                                        \n",
       "\n",
       "  Do you think that discussing a physical health issue with your employer would have negative consequences?  \\\n",
       "0                                                 No                                                          \n",
       "1                                                 No                                                          \n",
       "2                                                 No                                                          \n",
       "3                                                Yes                                                          \n",
       "4                                                 No                                                          \n",
       "\n",
       "  Would you be willing to discuss a mental health issue with your coworkers?  \\\n",
       "0                                       Some of them                           \n",
       "1                                                 No                           \n",
       "2                                                Yes                           \n",
       "3                                       Some of them                           \n",
       "4                                       Some of them                           \n",
       "\n",
       "  Would you be willing to discuss a mental health issue with your direct supervisor(s)?  \\\n",
       "0                                                Yes                                      \n",
       "1                                                 No                                      \n",
       "2                                                Yes                                      \n",
       "3                                                 No                                      \n",
       "4                                                Yes                                      \n",
       "\n",
       "  Would you bring up a mental health issue with a potential employer in an interview?  \\\n",
       "0                                                 No                                    \n",
       "1                                                 No                                    \n",
       "2                                                Yes                                    \n",
       "3                                              Maybe                                    \n",
       "4                                                Yes                                    \n",
       "\n",
       "  Would you bring up a physical health issue with a potential employer in an interview?  \\\n",
       "0                                              Maybe                                      \n",
       "1                                                 No                                      \n",
       "2                                                Yes                                      \n",
       "3                                              Maybe                                      \n",
       "4                                                Yes                                      \n",
       "\n",
       "  Do you feel that your employer takes mental health as seriously as physical health?  \\\n",
       "0                                                Yes                                    \n",
       "1                                         Don't know                                    \n",
       "2                                                 No                                    \n",
       "3                                                 No                                    \n",
       "4                                         Don't know                                    \n",
       "\n",
       "  Have you heard of or observed negative consequences for coworkers with mental health conditions in your workplace?  \\\n",
       "0                                                 No                                                                   \n",
       "1                                                 No                                                                   \n",
       "2                                                 No                                                                   \n",
       "3                                                Yes                                                                   \n",
       "4                                                 No                                                                   \n",
       "\n",
       "  Any additional notes or comments  \n",
       "0                              NaN  \n",
       "1                              NaN  \n",
       "2                              NaN  \n",
       "3                              NaN  \n",
       "4                              NaN  \n",
       "\n",
       "[5 rows x 27 columns]"
      ]
     },
     "execution_count": 3,
     "metadata": {},
     "output_type": "execute_result"
    }
   ],
   "source": [
    "mental_df = pd.read_csv('mental_health.csv')\n",
    "mental_df.head()"
   ]
  },
  {
   "cell_type": "code",
   "execution_count": 4,
   "metadata": {},
   "outputs": [
    {
     "name": "stdout",
     "output_type": "stream",
     "text": [
      "<class 'pandas.core.frame.DataFrame'>\n",
      "RangeIndex: 1260 entries, 0 to 1259\n",
      "Data columns (total 27 columns):\n",
      "Timestamp                                                                                                               1260 non-null object\n",
      "Age                                                                                                                     1260 non-null int64\n",
      "Gender                                                                                                                  1260 non-null object\n",
      "Country                                                                                                                 1260 non-null object\n",
      "If you live in the United States, which state or territory do you live in?                                              744 non-null object\n",
      "Are you self-employed?                                                                                                  1242 non-null object\n",
      "Do you have a family history of mental illness?                                                                         1260 non-null object\n",
      "Have you sought treatment for a mental health condition?                                                                1260 non-null object\n",
      "If you have a mental health condition, do you feel that it interferes with your work?                                   996 non-null object\n",
      "How many employees does your company or organization have?                                                              1260 non-null object\n",
      "Do you work remotely (outside of an office) at least 50% of the time?                                                   1260 non-null object\n",
      "Is your employer primarily a tech company/organization?                                                                 1260 non-null object\n",
      "Does your employer provide mental health benefits?                                                                      1260 non-null object\n",
      "Do you know the options for mental health care your employer provides?                                                  1260 non-null object\n",
      "Has your employer ever discussed mental health as part of an employee wellness program?                                 1260 non-null object\n",
      "Does your employer provide resources to learn more about mental health issues and how to seek help?                     1260 non-null object\n",
      "Is your anonymity protected if you choose to take advantage of mental health or substance abuse treatment resources?    1260 non-null object\n",
      "How easy is it for you to take medical leave for a mental health condition?                                             1260 non-null object\n",
      "Do you think that discussing a mental health issue with your employer would have negative consequences?                 1260 non-null object\n",
      "Do you think that discussing a physical health issue with your employer would have negative consequences?               1260 non-null object\n",
      "Would you be willing to discuss a mental health issue with your coworkers?                                              1260 non-null object\n",
      "Would you be willing to discuss a mental health issue with your direct supervisor(s)?                                   1260 non-null object\n",
      "Would you bring up a mental health issue with a potential employer in an interview?                                     1260 non-null object\n",
      "Would you bring up a physical health issue with a potential employer in an interview?                                   1260 non-null object\n",
      "Do you feel that your employer takes mental health as seriously as physical health?                                     1260 non-null object\n",
      "Have you heard of or observed negative consequences for coworkers with mental health conditions in your workplace?      1260 non-null object\n",
      "Any additional notes or comments                                                                                        164 non-null object\n",
      "dtypes: int64(1), object(26)\n",
      "memory usage: 265.9+ KB\n"
     ]
    }
   ],
   "source": [
    "mental_df.info()"
   ]
  },
  {
   "cell_type": "code",
   "execution_count": 5,
   "metadata": {},
   "outputs": [],
   "source": [
    "mental_df = mental_df.rename(columns={'Have you sought treatment for a mental health condition?': 'treatment', 'How many employees does your company or organization have?': 'size', 'Do you have a family history of mental illness?': 'history'})"
   ]
  },
  {
   "cell_type": "code",
   "execution_count": 6,
   "metadata": {},
   "outputs": [],
   "source": [
    "mental_df['Gender'] = mental_df['Gender'].replace('Male','M')\n",
    "mental_df['Gender'] = mental_df['Gender'].replace('male','M')\n",
    "mental_df['Gender'] = mental_df['Gender'].replace('m','M')\n",
    "mental_df['Gender'] = mental_df['Gender'].replace('female','F')\n",
    "mental_df['Gender'] = mental_df['Gender'].replace('Female','F')\n",
    "mental_df['Gender'] = mental_df['Gender'].replace('f','F')\n",
    "mental_df['Gender'] = mental_df['Gender'].replace('ostensibly male, unsure what that really means','M')\n",
    "mental_df['Gender'] = mental_df['Gender'].replace('Cis Man','M')\n",
    "mental_df['Gender'] = mental_df['Gender'].replace('Male-ish','M')\n",
    "mental_df['Gender'] = mental_df['Gender'].replace('maile','M')\n",
    "mental_df['Gender'] = mental_df['Gender'].replace('something kinda male','M')\n",
    "mental_df['Gender'] = mental_df['Gender'].replace('Cis Male','M')\n",
    "mental_df['Gender'] = mental_df['Gender'].replace('Mal','M')\n",
    "mental_df['Gender'] = mental_df['Gender'].replace('Male (CIS)','M')\n",
    "mental_df['Gender'] = mental_df['Gender'].replace('something kinda male?','M')\n",
    "mental_df['Gender'] = mental_df['Gender'].replace('Make','M')\n",
    "mental_df['Gender'] = mental_df['Gender'].replace('Guy (-ish) ^_^','M')\n",
    "mental_df['Gender'] = mental_df['Gender'].replace('Male ','M')\n",
    "mental_df['Gender'] = mental_df['Gender'].replace('Man','M')\n",
    "mental_df['Gender'] = mental_df['Gender'].replace('msle','M')\n",
    "mental_df['Gender'] = mental_df['Gender'].replace('Mail','M')\n",
    "mental_df['Gender'] = mental_df['Gender'].replace('cis male','M')\n",
    "mental_df['Gender'] = mental_df['Gender'].replace('Malr','M')\n",
    "mental_df['Gender'] = mental_df['Gender'].replace('Cis Female','F')\n",
    "mental_df['Gender'] = mental_df['Gender'].replace('Woman','F')\n",
    "mental_df['Gender'] = mental_df['Gender'].replace('Female (cis)','F')\n",
    "mental_df['Gender'] = mental_df['Gender'].replace('femail','F')\n",
    "mental_df['Gender'] = mental_df['Gender'].replace('Female','F')\n",
    "mental_df['Gender'] = mental_df['Gender'].replace('Femake','F')\n",
    "mental_df['Gender'] = mental_df['Gender'].replace('woman','F')\n",
    "mental_df['Gender'] = mental_df['Gender'].replace('cis-female/femme','F')\n"
   ]
  },
  {
   "cell_type": "code",
   "execution_count": 7,
   "metadata": {},
   "outputs": [],
   "source": [
    "mask_M = mental_df[\"Gender\"] == \"M\"\n",
    "mask_F = mental_df[\"Gender\"] == \"F\"\n",
    "mask_mf = mask_M | mask_F\n",
    "mental_gender = mental_df[mask_mf]"
   ]
  },
  {
   "cell_type": "code",
   "execution_count": 8,
   "metadata": {},
   "outputs": [
    {
     "data": {
      "text/html": [
       "<div>\n",
       "<style scoped>\n",
       "    .dataframe tbody tr th:only-of-type {\n",
       "        vertical-align: middle;\n",
       "    }\n",
       "\n",
       "    .dataframe tbody tr th {\n",
       "        vertical-align: top;\n",
       "    }\n",
       "\n",
       "    .dataframe thead th {\n",
       "        text-align: right;\n",
       "    }\n",
       "</style>\n",
       "<table border=\"1\" class=\"dataframe\">\n",
       "  <thead>\n",
       "    <tr style=\"text-align: right;\">\n",
       "      <th></th>\n",
       "      <th>Gender</th>\n",
       "      <th>treatment</th>\n",
       "    </tr>\n",
       "  </thead>\n",
       "  <tbody>\n",
       "    <tr>\n",
       "      <th>0</th>\n",
       "      <td>F</td>\n",
       "      <td>Yes</td>\n",
       "    </tr>\n",
       "    <tr>\n",
       "      <th>1</th>\n",
       "      <td>M</td>\n",
       "      <td>No</td>\n",
       "    </tr>\n",
       "    <tr>\n",
       "      <th>2</th>\n",
       "      <td>M</td>\n",
       "      <td>No</td>\n",
       "    </tr>\n",
       "    <tr>\n",
       "      <th>3</th>\n",
       "      <td>M</td>\n",
       "      <td>Yes</td>\n",
       "    </tr>\n",
       "    <tr>\n",
       "      <th>4</th>\n",
       "      <td>M</td>\n",
       "      <td>No</td>\n",
       "    </tr>\n",
       "  </tbody>\n",
       "</table>\n",
       "</div>"
      ],
      "text/plain": [
       "  Gender treatment\n",
       "0      F       Yes\n",
       "1      M        No\n",
       "2      M        No\n",
       "3      M       Yes\n",
       "4      M        No"
      ]
     },
     "execution_count": 8,
     "metadata": {},
     "output_type": "execute_result"
    }
   ],
   "source": [
    "mental_gender = mental_gender[[\"Gender\", \"treatment\"]]\n",
    "mental_gender.head()"
   ]
  },
  {
   "cell_type": "code",
   "execution_count": 9,
   "metadata": {},
   "outputs": [
    {
     "data": {
      "text/html": [
       "<div>\n",
       "<style scoped>\n",
       "    .dataframe tbody tr th:only-of-type {\n",
       "        vertical-align: middle;\n",
       "    }\n",
       "\n",
       "    .dataframe tbody tr th {\n",
       "        vertical-align: top;\n",
       "    }\n",
       "\n",
       "    .dataframe thead th {\n",
       "        text-align: right;\n",
       "    }\n",
       "</style>\n",
       "<table border=\"1\" class=\"dataframe\">\n",
       "  <thead>\n",
       "    <tr style=\"text-align: right;\">\n",
       "      <th></th>\n",
       "      <th>size</th>\n",
       "      <th>treatment</th>\n",
       "    </tr>\n",
       "  </thead>\n",
       "  <tbody>\n",
       "    <tr>\n",
       "      <th>0</th>\n",
       "      <td>6-25</td>\n",
       "      <td>Yes</td>\n",
       "    </tr>\n",
       "    <tr>\n",
       "      <th>1</th>\n",
       "      <td>More than 1000</td>\n",
       "      <td>No</td>\n",
       "    </tr>\n",
       "    <tr>\n",
       "      <th>2</th>\n",
       "      <td>6-25</td>\n",
       "      <td>No</td>\n",
       "    </tr>\n",
       "    <tr>\n",
       "      <th>3</th>\n",
       "      <td>26-100</td>\n",
       "      <td>Yes</td>\n",
       "    </tr>\n",
       "    <tr>\n",
       "      <th>4</th>\n",
       "      <td>100-500</td>\n",
       "      <td>No</td>\n",
       "    </tr>\n",
       "  </tbody>\n",
       "</table>\n",
       "</div>"
      ],
      "text/plain": [
       "             size treatment\n",
       "0            6-25       Yes\n",
       "1  More than 1000        No\n",
       "2            6-25        No\n",
       "3          26-100       Yes\n",
       "4         100-500        No"
      ]
     },
     "execution_count": 9,
     "metadata": {},
     "output_type": "execute_result"
    }
   ],
   "source": [
    "mental_size = mental_df[['size','treatment']]\n",
    "mental_size.head()"
   ]
  },
  {
   "cell_type": "code",
   "execution_count": 10,
   "metadata": {},
   "outputs": [
    {
     "data": {
      "text/html": [
       "<div>\n",
       "<style scoped>\n",
       "    .dataframe tbody tr th:only-of-type {\n",
       "        vertical-align: middle;\n",
       "    }\n",
       "\n",
       "    .dataframe tbody tr th {\n",
       "        vertical-align: top;\n",
       "    }\n",
       "\n",
       "    .dataframe thead th {\n",
       "        text-align: right;\n",
       "    }\n",
       "</style>\n",
       "<table border=\"1\" class=\"dataframe\">\n",
       "  <thead>\n",
       "    <tr style=\"text-align: right;\">\n",
       "      <th></th>\n",
       "      <th>history</th>\n",
       "      <th>treatment</th>\n",
       "    </tr>\n",
       "  </thead>\n",
       "  <tbody>\n",
       "    <tr>\n",
       "      <th>0</th>\n",
       "      <td>No</td>\n",
       "      <td>Yes</td>\n",
       "    </tr>\n",
       "    <tr>\n",
       "      <th>1</th>\n",
       "      <td>No</td>\n",
       "      <td>No</td>\n",
       "    </tr>\n",
       "    <tr>\n",
       "      <th>2</th>\n",
       "      <td>No</td>\n",
       "      <td>No</td>\n",
       "    </tr>\n",
       "    <tr>\n",
       "      <th>3</th>\n",
       "      <td>Yes</td>\n",
       "      <td>Yes</td>\n",
       "    </tr>\n",
       "    <tr>\n",
       "      <th>4</th>\n",
       "      <td>No</td>\n",
       "      <td>No</td>\n",
       "    </tr>\n",
       "  </tbody>\n",
       "</table>\n",
       "</div>"
      ],
      "text/plain": [
       "  history treatment\n",
       "0      No       Yes\n",
       "1      No        No\n",
       "2      No        No\n",
       "3     Yes       Yes\n",
       "4      No        No"
      ]
     },
     "execution_count": 10,
     "metadata": {},
     "output_type": "execute_result"
    }
   ],
   "source": [
    "mental_history = mental_df[['history','treatment']]\n",
    "mental_history.head()"
   ]
  },
  {
   "cell_type": "code",
   "execution_count": 11,
   "metadata": {},
   "outputs": [
    {
     "name": "stderr",
     "output_type": "stream",
     "text": [
      "/anaconda3/lib/python3.6/site-packages/ipykernel_launcher.py:1: SettingWithCopyWarning: \n",
      "A value is trying to be set on a copy of a slice from a DataFrame.\n",
      "Try using .loc[row_indexer,col_indexer] = value instead\n",
      "\n",
      "See the caveats in the documentation: http://pandas.pydata.org/pandas-docs/stable/indexing.html#indexing-view-versus-copy\n",
      "  \"\"\"Entry point for launching an IPython kernel.\n"
     ]
    },
    {
     "data": {
      "text/html": [
       "<div>\n",
       "<style scoped>\n",
       "    .dataframe tbody tr th:only-of-type {\n",
       "        vertical-align: middle;\n",
       "    }\n",
       "\n",
       "    .dataframe tbody tr th {\n",
       "        vertical-align: top;\n",
       "    }\n",
       "\n",
       "    .dataframe thead th {\n",
       "        text-align: right;\n",
       "    }\n",
       "</style>\n",
       "<table border=\"1\" class=\"dataframe\">\n",
       "  <thead>\n",
       "    <tr style=\"text-align: right;\">\n",
       "      <th></th>\n",
       "      <th>Mental_illness_yes</th>\n",
       "    </tr>\n",
       "    <tr>\n",
       "      <th>size</th>\n",
       "      <th></th>\n",
       "    </tr>\n",
       "  </thead>\n",
       "  <tbody>\n",
       "    <tr>\n",
       "      <th>1-5</th>\n",
       "      <td>0.561728</td>\n",
       "    </tr>\n",
       "    <tr>\n",
       "      <th>100-500</th>\n",
       "      <td>0.539773</td>\n",
       "    </tr>\n",
       "    <tr>\n",
       "      <th>26-100</th>\n",
       "      <td>0.519031</td>\n",
       "    </tr>\n",
       "    <tr>\n",
       "      <th>500-1000</th>\n",
       "      <td>0.442623</td>\n",
       "    </tr>\n",
       "    <tr>\n",
       "      <th>6-25</th>\n",
       "      <td>0.441379</td>\n",
       "    </tr>\n",
       "    <tr>\n",
       "      <th>More than 1000</th>\n",
       "      <td>0.517730</td>\n",
       "    </tr>\n",
       "  </tbody>\n",
       "</table>\n",
       "</div>"
      ],
      "text/plain": [
       "                Mental_illness_yes\n",
       "size                              \n",
       "1-5                       0.561728\n",
       "100-500                   0.539773\n",
       "26-100                    0.519031\n",
       "500-1000                  0.442623\n",
       "6-25                      0.441379\n",
       "More than 1000            0.517730"
      ]
     },
     "execution_count": 11,
     "metadata": {},
     "output_type": "execute_result"
    }
   ],
   "source": [
    "mental_size['Mental_illness_yes'] = pd.Series(np.where(mental_size[\"treatment\"] == \"Yes\",1,0), mental_size.index)\n",
    "size_avg = mental_size.groupby('size').mean()\n",
    "size_avg"
   ]
  },
  {
   "cell_type": "code",
   "execution_count": 12,
   "metadata": {},
   "outputs": [
    {
     "data": {
      "text/html": [
       "<div>\n",
       "<style scoped>\n",
       "    .dataframe tbody tr th:only-of-type {\n",
       "        vertical-align: middle;\n",
       "    }\n",
       "\n",
       "    .dataframe tbody tr th {\n",
       "        vertical-align: top;\n",
       "    }\n",
       "\n",
       "    .dataframe thead th {\n",
       "        text-align: right;\n",
       "    }\n",
       "</style>\n",
       "<table border=\"1\" class=\"dataframe\">\n",
       "  <thead>\n",
       "    <tr style=\"text-align: right;\">\n",
       "      <th></th>\n",
       "      <th>Mental_illness_yes</th>\n",
       "      <th>order</th>\n",
       "    </tr>\n",
       "    <tr>\n",
       "      <th>size</th>\n",
       "      <th></th>\n",
       "      <th></th>\n",
       "    </tr>\n",
       "  </thead>\n",
       "  <tbody>\n",
       "    <tr>\n",
       "      <th>1-5</th>\n",
       "      <td>0.561728</td>\n",
       "      <td>1</td>\n",
       "    </tr>\n",
       "    <tr>\n",
       "      <th>6-25</th>\n",
       "      <td>0.441379</td>\n",
       "      <td>2</td>\n",
       "    </tr>\n",
       "    <tr>\n",
       "      <th>26-100</th>\n",
       "      <td>0.519031</td>\n",
       "      <td>3</td>\n",
       "    </tr>\n",
       "    <tr>\n",
       "      <th>100-500</th>\n",
       "      <td>0.539773</td>\n",
       "      <td>4</td>\n",
       "    </tr>\n",
       "    <tr>\n",
       "      <th>500-1000</th>\n",
       "      <td>0.442623</td>\n",
       "      <td>5</td>\n",
       "    </tr>\n",
       "    <tr>\n",
       "      <th>More than 1000</th>\n",
       "      <td>0.517730</td>\n",
       "      <td>6</td>\n",
       "    </tr>\n",
       "  </tbody>\n",
       "</table>\n",
       "</div>"
      ],
      "text/plain": [
       "                Mental_illness_yes  order\n",
       "size                                     \n",
       "1-5                       0.561728      1\n",
       "6-25                      0.441379      2\n",
       "26-100                    0.519031      3\n",
       "100-500                   0.539773      4\n",
       "500-1000                  0.442623      5\n",
       "More than 1000            0.517730      6"
      ]
     },
     "execution_count": 12,
     "metadata": {},
     "output_type": "execute_result"
    }
   ],
   "source": [
    "order = [1,4,3,5,2,6]\n",
    "size_avg['order']=order\n",
    "size_avg = size_avg.sort_values(['order'])\n",
    "size_avg"
   ]
  },
  {
   "cell_type": "code",
   "execution_count": 17,
   "metadata": {},
   "outputs": [],
   "source": [
    "sns.set(font_scale=2.0)"
   ]
  },
  {
   "cell_type": "code",
   "execution_count": 18,
   "metadata": {},
   "outputs": [
    {
     "data": {
      "text/plain": [
       "Text(0.5,1,'Occurance of Mental Illness by Company Size')"
      ]
     },
     "execution_count": 18,
     "metadata": {},
     "output_type": "execute_result"
    },
    {
     "data": {
      "image/png": "[encoded data removed]",
      "text/plain": [
       "<Figure size 1080x720 with 1 Axes>"
      ]
     },
     "metadata": {},
     "output_type": "display_data"
    }
   ],
   "source": [
    "plt.figure(figsize=(15,10))\n",
    "sns.barplot(x=size_avg.index.values, y=size_avg['Mental_illness_yes'])\n",
    "plt.xticks(rotation= 45)\n",
    "plt.xlabel('Company Size')\n",
    "plt.ylabel('Percent Mental Illness')\n",
    "plt.title('Occurance of Mental Illness by Company Size')"
   ]
  },
  {
   "cell_type": "code",
   "execution_count": 19,
   "metadata": {},
   "outputs": [
    {
     "name": "stderr",
     "output_type": "stream",
     "text": [
      "/anaconda3/lib/python3.6/site-packages/ipykernel_launcher.py:1: SettingWithCopyWarning: \n",
      "A value is trying to be set on a copy of a slice from a DataFrame.\n",
      "Try using .loc[row_indexer,col_indexer] = value instead\n",
      "\n",
      "See the caveats in the documentation: http://pandas.pydata.org/pandas-docs/stable/indexing.html#indexing-view-versus-copy\n",
      "  \"\"\"Entry point for launching an IPython kernel.\n"
     ]
    },
    {
     "data": {
      "text/html": [
       "<div>\n",
       "<style scoped>\n",
       "    .dataframe tbody tr th:only-of-type {\n",
       "        vertical-align: middle;\n",
       "    }\n",
       "\n",
       "    .dataframe tbody tr th {\n",
       "        vertical-align: top;\n",
       "    }\n",
       "\n",
       "    .dataframe thead th {\n",
       "        text-align: right;\n",
       "    }\n",
       "</style>\n",
       "<table border=\"1\" class=\"dataframe\">\n",
       "  <thead>\n",
       "    <tr style=\"text-align: right;\">\n",
       "      <th></th>\n",
       "      <th>Mental_illness_yes</th>\n",
       "    </tr>\n",
       "    <tr>\n",
       "      <th>history</th>\n",
       "      <th></th>\n",
       "    </tr>\n",
       "  </thead>\n",
       "  <tbody>\n",
       "    <tr>\n",
       "      <th>No</th>\n",
       "      <td>0.354167</td>\n",
       "    </tr>\n",
       "    <tr>\n",
       "      <th>Yes</th>\n",
       "      <td>0.741870</td>\n",
       "    </tr>\n",
       "  </tbody>\n",
       "</table>\n",
       "</div>"
      ],
      "text/plain": [
       "         Mental_illness_yes\n",
       "history                    \n",
       "No                 0.354167\n",
       "Yes                0.741870"
      ]
     },
     "execution_count": 19,
     "metadata": {},
     "output_type": "execute_result"
    }
   ],
   "source": [
    "mental_history['Mental_illness_yes'] = pd.Series(np.where(mental_history[\"treatment\"] == \"Yes\",1,0), mental_history.index)\n",
    "history_avg = mental_history.groupby('history').mean()\n",
    "history_avg"
   ]
  },
  {
   "cell_type": "code",
   "execution_count": 20,
   "metadata": {},
   "outputs": [
    {
     "data": {
      "text/plain": [
       "Text(0.5,1,'Occurance of Mental Illness Based on Family History of Mental Illness')"
      ]
     },
     "execution_count": 20,
     "metadata": {},
     "output_type": "execute_result"
    },
    {
     "data": {
      "image/png": "[encoded data removed]",
      "text/plain": [
       "<Figure size 1080x720 with 1 Axes>"
      ]
     },
     "metadata": {},
     "output_type": "display_data"
    }
   ],
   "source": [
    "plt.figure(figsize=(15,10))\n",
    "sns.barplot(x=history_avg.index.values, y=history_avg['Mental_illness_yes'])\n",
    "plt.xticks(rotation= 45)\n",
    "plt.xlabel('History of Mental Illness')\n",
    "plt.ylabel('Percent Mental Illness')\n",
    "plt.title('Occurance of Mental Illness Based on Family History of Mental Illness')"
   ]
  },
  {
   "cell_type": "code",
   "execution_count": 21,
   "metadata": {},
   "outputs": [
    {
     "data": {
      "text/plain": [
       "0.5055555555555555"
      ]
     },
     "execution_count": 21,
     "metadata": {},
     "output_type": "execute_result"
    }
   ],
   "source": [
    "history_avg_t = mental_history.mean()\n",
    "history_avg_t = history_avg_t.values.tolist()\n",
    "history_avg_t = history_avg_t[0]\n",
    "history_avg_t"
   ]
  },
  {
   "cell_type": "code",
   "execution_count": 22,
   "metadata": {},
   "outputs": [
    {
     "data": {
      "text/plain": [
       "0.3541666666666667"
      ]
     },
     "execution_count": 22,
     "metadata": {},
     "output_type": "execute_result"
    }
   ],
   "source": [
    "no_avg = history_avg.values.tolist()\n",
    "no_avg = no_avg[0][0]\n",
    "no_avg"
   ]
  },
  {
   "cell_type": "code",
   "execution_count": 23,
   "metadata": {},
   "outputs": [
    {
     "data": {
      "text/plain": [
       "0.741869918699187"
      ]
     },
     "execution_count": 23,
     "metadata": {},
     "output_type": "execute_result"
    }
   ],
   "source": [
    "yes_avg = history_avg.values.tolist()\n",
    "yes_avg = yes_avg[1][0]\n",
    "yes_avg"
   ]
  },
  {
   "cell_type": "code",
   "execution_count": 24,
   "metadata": {},
   "outputs": [
    {
     "data": {
      "text/plain": [
       "768"
      ]
     },
     "execution_count": 24,
     "metadata": {},
     "output_type": "execute_result"
    }
   ],
   "source": [
    "no_sum = mental_history[mental_history['history']=='No'].count()\n",
    "no_sum = no_sum['history']\n",
    "no_sum"
   ]
  },
  {
   "cell_type": "code",
   "execution_count": 25,
   "metadata": {},
   "outputs": [
    {
     "data": {
      "text/plain": [
       "492"
      ]
     },
     "execution_count": 25,
     "metadata": {},
     "output_type": "execute_result"
    }
   ],
   "source": [
    "yes_sum = mental_history[mental_history['history']=='Yes'].count()\n",
    "yes_sum = yes_sum['history']\n",
    "yes_sum"
   ]
  },
  {
   "cell_type": "code",
   "execution_count": 27,
   "metadata": {},
   "outputs": [
    {
     "data": {
      "text/plain": [
       "13.428705151898392"
      ]
     },
     "execution_count": 27,
     "metadata": {},
     "output_type": "execute_result"
    }
   ],
   "source": [
    "se_his = sqrt(history_avg_t * (1 - history_avg_t) * (1 / no_sum + 1 / yes_sum))\n",
    "z_his =(yes_avg-no_avg)/se_his\n",
    "z_his"
   ]
  },
  {
   "cell_type": "code",
   "execution_count": 28,
   "metadata": {},
   "outputs": [
    {
     "data": {
      "text/plain": [
       "0.0"
      ]
     },
     "execution_count": 28,
     "metadata": {},
     "output_type": "execute_result"
    }
   ],
   "source": [
    "p_val_his = 1 - stats.norm.cdf(z_his)\n",
    "p_val_his"
   ]
  },
  {
   "cell_type": "code",
   "execution_count": 29,
   "metadata": {},
   "outputs": [
    {
     "data": {
      "text/html": [
       "<div>\n",
       "<style scoped>\n",
       "    .dataframe tbody tr th:only-of-type {\n",
       "        vertical-align: middle;\n",
       "    }\n",
       "\n",
       "    .dataframe tbody tr th {\n",
       "        vertical-align: top;\n",
       "    }\n",
       "\n",
       "    .dataframe thead th {\n",
       "        text-align: right;\n",
       "    }\n",
       "</style>\n",
       "<table border=\"1\" class=\"dataframe\">\n",
       "  <thead>\n",
       "    <tr style=\"text-align: right;\">\n",
       "      <th></th>\n",
       "      <th>Mental_illness_yes</th>\n",
       "    </tr>\n",
       "    <tr>\n",
       "      <th>Gender</th>\n",
       "      <th></th>\n",
       "    </tr>\n",
       "  </thead>\n",
       "  <tbody>\n",
       "    <tr>\n",
       "      <th>F</th>\n",
       "      <td>0.689796</td>\n",
       "    </tr>\n",
       "    <tr>\n",
       "      <th>M</th>\n",
       "      <td>0.454271</td>\n",
       "    </tr>\n",
       "  </tbody>\n",
       "</table>\n",
       "</div>"
      ],
      "text/plain": [
       "        Mental_illness_yes\n",
       "Gender                    \n",
       "F                 0.689796\n",
       "M                 0.454271"
      ]
     },
     "execution_count": 29,
     "metadata": {},
     "output_type": "execute_result"
    }
   ],
   "source": [
    "mental_gender['Mental_illness_yes'] = pd.Series(np.where(mental_gender[\"treatment\"] == \"Yes\",1,0), mental_gender.index)\n",
    "gender_avg = mental_gender.groupby('Gender').mean()\n",
    "gender_avg"
   ]
  },
  {
   "cell_type": "code",
   "execution_count": 30,
   "metadata": {},
   "outputs": [
    {
     "data": {
      "text/plain": [
       "Text(0.5,1,'Occurance of Mental Illness by Sex')"
      ]
     },
     "execution_count": 30,
     "metadata": {},
     "output_type": "execute_result"
    },
    {
     "data": {
      "image/png": "[encoded data removed]",
      "text/plain": [
       "<Figure size 1080x720 with 1 Axes>"
      ]
     },
     "metadata": {},
     "output_type": "display_data"
    }
   ],
   "source": [
    "plt.figure(figsize=(15,10))\n",
    "sns.barplot(x=gender_avg.index.values, y=gender_avg['Mental_illness_yes'])\n",
    "plt.xticks(rotation= 45)\n",
    "plt.xlabel('Sex')\n",
    "plt.ylabel('Percent Mental Illness')\n",
    "plt.title('Occurance of Mental Illness by Sex')"
   ]
  },
  {
   "cell_type": "code",
   "execution_count": 31,
   "metadata": {},
   "outputs": [
    {
     "data": {
      "text/plain": [
       "0.5008064516129033"
      ]
     },
     "execution_count": 31,
     "metadata": {},
     "output_type": "execute_result"
    }
   ],
   "source": [
    "gender_avg_t = mental_gender.mean()\n",
    "gender_avg_t = gender_avg_t.values.tolist()\n",
    "gender_avg_t = gender_avg_t[0]\n",
    "gender_avg_t"
   ]
  },
  {
   "cell_type": "code",
   "execution_count": 32,
   "metadata": {},
   "outputs": [
    {
     "data": {
      "text/plain": [
       "0.689795918367347"
      ]
     },
     "execution_count": 32,
     "metadata": {},
     "output_type": "execute_result"
    }
   ],
   "source": [
    "fem_avg = gender_avg.values.tolist()\n",
    "fem_avg = fem_avg[0][0]\n",
    "fem_avg"
   ]
  },
  {
   "cell_type": "code",
   "execution_count": 33,
   "metadata": {},
   "outputs": [
    {
     "data": {
      "text/plain": [
       "0.4542713567839196"
      ]
     },
     "execution_count": 33,
     "metadata": {},
     "output_type": "execute_result"
    }
   ],
   "source": [
    "male_avg = gender_avg.values.tolist()\n",
    "male_avg = male_avg[1][0]\n",
    "male_avg"
   ]
  },
  {
   "cell_type": "code",
   "execution_count": 34,
   "metadata": {},
   "outputs": [
    {
     "data": {
      "text/plain": [
       "245"
      ]
     },
     "execution_count": 34,
     "metadata": {},
     "output_type": "execute_result"
    }
   ],
   "source": [
    "fem_sum = mental_gender[mental_gender['Gender']=='F'].count()\n",
    "fem_sum = fem_sum['Gender']\n",
    "fem_sum"
   ]
  },
  {
   "cell_type": "code",
   "execution_count": 35,
   "metadata": {},
   "outputs": [
    {
     "data": {
      "text/plain": [
       "995"
      ]
     },
     "execution_count": 35,
     "metadata": {},
     "output_type": "execute_result"
    }
   ],
   "source": [
    "male_sum = mental_gender[mental_gender['Gender']=='M'].count()\n",
    "male_sum = male_sum['Gender']\n",
    "male_sum"
   ]
  },
  {
   "cell_type": "code",
   "execution_count": 36,
   "metadata": {},
   "outputs": [
    {
     "data": {
      "text/plain": [
       "6.604660593456575"
      ]
     },
     "execution_count": 36,
     "metadata": {},
     "output_type": "execute_result"
    }
   ],
   "source": [
    "se_gen = sqrt(gender_avg_t * (1 - gender_avg_t) * (1 / fem_sum + 1 / male_sum))\n",
    "z_gen =(fem_avg-male_avg)/se_gen\n",
    "z_gen"
   ]
  },
  {
   "cell_type": "code",
   "execution_count": 37,
   "metadata": {},
   "outputs": [
    {
     "data": {
      "text/plain": [
       "1.992150888696642e-11"
      ]
     },
     "execution_count": 37,
     "metadata": {},
     "output_type": "execute_result"
    }
   ],
   "source": [
    "p_val_gen = 1 - stats.norm.cdf(z_gen)\n",
    "p_val_gen"
   ]
  },
  {
   "cell_type": "code",
   "execution_count": null,
   "metadata": {},
   "outputs": [],
   "source": []
  }
 ],
 "metadata": {
  "kernelspec": {
   "display_name": "Python 3",
   "language": "python",
   "name": "python3"
  },
  "language_info": {
   "codemirror_mode": {
    "name": "ipython",
    "version": 3
   },
   "file_extension": ".py",
   "mimetype": "text/x-python",
   "name": "python",
   "nbconvert_exporter": "python",
   "pygments_lexer": "ipython3",
   "version": "3.6.5"
  }
 },
 "nbformat": 4,
 "nbformat_minor": 2
}
